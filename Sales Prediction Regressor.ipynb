{
 "cells": [
  {
   "cell_type": "markdown",
   "id": "e32c42b4",
   "metadata": {},
   "source": [
    "## ML pipeline for sales prediction through Random forest regressor"
   ]
  },
  {
   "cell_type": "markdown",
   "id": "1f9265c5",
   "metadata": {},
   "source": [
    "### Prototype ML Model"
   ]
  },
  {
   "cell_type": "markdown",
   "id": "e5983167",
   "metadata": {},
   "source": [
    "#### Import the Data"
   ]
  },
  {
   "cell_type": "code",
   "execution_count": 106,
   "id": "84cc7836",
   "metadata": {},
   "outputs": [],
   "source": [
    "import pandas as pd\n",
    "import numpy as num\n",
    "import matplotlib.pyplot as plt"
   ]
  },
  {
   "cell_type": "code",
   "execution_count": 107,
   "id": "fb242f75",
   "metadata": {},
   "outputs": [],
   "source": [
    "train=pd.read_csv('train_v9rqX0R.csv')"
   ]
  },
  {
   "cell_type": "markdown",
   "id": "6cc0905a",
   "metadata": {},
   "source": [
    "#### Data Preprocessing"
   ]
  },
  {
   "cell_type": "code",
   "execution_count": 108,
   "id": "6f9eb890",
   "metadata": {},
   "outputs": [
    {
     "data": {
      "text/plain": [
       "Item_Identifier                 0\n",
       "Item_Weight                  1463\n",
       "Item_Fat_Content                0\n",
       "Item_Visibility                 0\n",
       "Item_Type                       0\n",
       "Item_MRP                        0\n",
       "Outlet_Identifier               0\n",
       "Outlet_Establishment_Year       0\n",
       "Outlet_Size                  2410\n",
       "Outlet_Location_Type            0\n",
       "Outlet_Type                     0\n",
       "Item_Outlet_Sales               0\n",
       "dtype: int64"
      ]
     },
     "execution_count": 108,
     "metadata": {},
     "output_type": "execute_result"
    }
   ],
   "source": [
    "train.isna().sum()"
   ]
  },
  {
   "cell_type": "code",
   "execution_count": 109,
   "id": "4a8ca497",
   "metadata": {},
   "outputs": [],
   "source": [
    "train.Item_Weight.fillna(train.Item_Weight.mean(),inplace=True)\n",
    "train.Outlet_Size.fillna(train.Outlet_Size.mode()[0],inplace=True)"
   ]
  },
  {
   "cell_type": "code",
   "execution_count": 110,
   "id": "d074f8d2",
   "metadata": {},
   "outputs": [
    {
     "data": {
      "text/plain": [
       "Item_Identifier              0\n",
       "Item_Weight                  0\n",
       "Item_Fat_Content             0\n",
       "Item_Visibility              0\n",
       "Item_Type                    0\n",
       "Item_MRP                     0\n",
       "Outlet_Identifier            0\n",
       "Outlet_Establishment_Year    0\n",
       "Outlet_Size                  0\n",
       "Outlet_Location_Type         0\n",
       "Outlet_Type                  0\n",
       "Item_Outlet_Sales            0\n",
       "dtype: int64"
      ]
     },
     "execution_count": 110,
     "metadata": {},
     "output_type": "execute_result"
    }
   ],
   "source": [
    "train.isna().sum()"
   ]
  },
  {
   "cell_type": "code",
   "execution_count": 111,
   "id": "f0c34f89",
   "metadata": {},
   "outputs": [
    {
     "name": "stdout",
     "output_type": "stream",
     "text": [
      "<class 'pandas.core.frame.DataFrame'>\n",
      "RangeIndex: 8523 entries, 0 to 8522\n",
      "Data columns (total 12 columns):\n",
      " #   Column                     Non-Null Count  Dtype  \n",
      "---  ------                     --------------  -----  \n",
      " 0   Item_Identifier            8523 non-null   object \n",
      " 1   Item_Weight                8523 non-null   float64\n",
      " 2   Item_Fat_Content           8523 non-null   object \n",
      " 3   Item_Visibility            8523 non-null   float64\n",
      " 4   Item_Type                  8523 non-null   object \n",
      " 5   Item_MRP                   8523 non-null   float64\n",
      " 6   Outlet_Identifier          8523 non-null   object \n",
      " 7   Outlet_Establishment_Year  8523 non-null   int64  \n",
      " 8   Outlet_Size                8523 non-null   object \n",
      " 9   Outlet_Location_Type       8523 non-null   object \n",
      " 10  Outlet_Type                8523 non-null   object \n",
      " 11  Item_Outlet_Sales          8523 non-null   float64\n",
      "dtypes: float64(4), int64(1), object(7)\n",
      "memory usage: 799.2+ KB\n"
     ]
    }
   ],
   "source": [
    "train.info()"
   ]
  },
  {
   "cell_type": "code",
   "execution_count": 112,
   "id": "07ab17d0",
   "metadata": {},
   "outputs": [],
   "source": [
    "import category_encoders as en"
   ]
  },
  {
   "cell_type": "code",
   "execution_count": 113,
   "id": "4f3ac82b",
   "metadata": {},
   "outputs": [],
   "source": [
    "Ohe = en.OneHotEncoder(cols=['Item_Fat_Content',\n",
    "                             'Item_Type',\n",
    "                             'Outlet_Identifier',\n",
    "                             'Outlet_Size',\n",
    "                             'Outlet_Location_Type',\n",
    "                             'Outlet_Type'],use_cat_names=True)"
   ]
  },
  {
   "cell_type": "code",
   "execution_count": 114,
   "id": "bfe5b8de",
   "metadata": {},
   "outputs": [],
   "source": [
    "train=Ohe.fit_transform(train)"
   ]
  },
  {
   "cell_type": "code",
   "execution_count": 115,
   "id": "7d557803",
   "metadata": {},
   "outputs": [],
   "source": [
    "train=train.drop(columns=['Item_Identifier'])"
   ]
  },
  {
   "cell_type": "code",
   "execution_count": 116,
   "id": "57b19d15",
   "metadata": {},
   "outputs": [
    {
     "data": {
      "text/html": [
       "<div>\n",
       "<style scoped>\n",
       "    .dataframe tbody tr th:only-of-type {\n",
       "        vertical-align: middle;\n",
       "    }\n",
       "\n",
       "    .dataframe tbody tr th {\n",
       "        vertical-align: top;\n",
       "    }\n",
       "\n",
       "    .dataframe thead th {\n",
       "        text-align: right;\n",
       "    }\n",
       "</style>\n",
       "<table border=\"1\" class=\"dataframe\">\n",
       "  <thead>\n",
       "    <tr style=\"text-align: right;\">\n",
       "      <th></th>\n",
       "      <th>Item_Weight</th>\n",
       "      <th>Item_Fat_Content_Low Fat</th>\n",
       "      <th>Item_Fat_Content_Regular</th>\n",
       "      <th>Item_Fat_Content_low fat</th>\n",
       "      <th>Item_Fat_Content_LF</th>\n",
       "      <th>Item_Fat_Content_reg</th>\n",
       "      <th>Item_Visibility</th>\n",
       "      <th>Item_Type_Dairy</th>\n",
       "      <th>Item_Type_Soft Drinks</th>\n",
       "      <th>Item_Type_Meat</th>\n",
       "      <th>...</th>\n",
       "      <th>Outlet_Size_High</th>\n",
       "      <th>Outlet_Size_Small</th>\n",
       "      <th>Outlet_Location_Type_Tier 1</th>\n",
       "      <th>Outlet_Location_Type_Tier 3</th>\n",
       "      <th>Outlet_Location_Type_Tier 2</th>\n",
       "      <th>Outlet_Type_Supermarket Type1</th>\n",
       "      <th>Outlet_Type_Supermarket Type2</th>\n",
       "      <th>Outlet_Type_Grocery Store</th>\n",
       "      <th>Outlet_Type_Supermarket Type3</th>\n",
       "      <th>Item_Outlet_Sales</th>\n",
       "    </tr>\n",
       "  </thead>\n",
       "  <tbody>\n",
       "    <tr>\n",
       "      <th>0</th>\n",
       "      <td>9.300</td>\n",
       "      <td>1</td>\n",
       "      <td>0</td>\n",
       "      <td>0</td>\n",
       "      <td>0</td>\n",
       "      <td>0</td>\n",
       "      <td>0.016047</td>\n",
       "      <td>1</td>\n",
       "      <td>0</td>\n",
       "      <td>0</td>\n",
       "      <td>...</td>\n",
       "      <td>0</td>\n",
       "      <td>0</td>\n",
       "      <td>1</td>\n",
       "      <td>0</td>\n",
       "      <td>0</td>\n",
       "      <td>1</td>\n",
       "      <td>0</td>\n",
       "      <td>0</td>\n",
       "      <td>0</td>\n",
       "      <td>3735.1380</td>\n",
       "    </tr>\n",
       "    <tr>\n",
       "      <th>1</th>\n",
       "      <td>5.920</td>\n",
       "      <td>0</td>\n",
       "      <td>1</td>\n",
       "      <td>0</td>\n",
       "      <td>0</td>\n",
       "      <td>0</td>\n",
       "      <td>0.019278</td>\n",
       "      <td>0</td>\n",
       "      <td>1</td>\n",
       "      <td>0</td>\n",
       "      <td>...</td>\n",
       "      <td>0</td>\n",
       "      <td>0</td>\n",
       "      <td>0</td>\n",
       "      <td>1</td>\n",
       "      <td>0</td>\n",
       "      <td>0</td>\n",
       "      <td>1</td>\n",
       "      <td>0</td>\n",
       "      <td>0</td>\n",
       "      <td>443.4228</td>\n",
       "    </tr>\n",
       "    <tr>\n",
       "      <th>2</th>\n",
       "      <td>17.500</td>\n",
       "      <td>1</td>\n",
       "      <td>0</td>\n",
       "      <td>0</td>\n",
       "      <td>0</td>\n",
       "      <td>0</td>\n",
       "      <td>0.016760</td>\n",
       "      <td>0</td>\n",
       "      <td>0</td>\n",
       "      <td>1</td>\n",
       "      <td>...</td>\n",
       "      <td>0</td>\n",
       "      <td>0</td>\n",
       "      <td>1</td>\n",
       "      <td>0</td>\n",
       "      <td>0</td>\n",
       "      <td>1</td>\n",
       "      <td>0</td>\n",
       "      <td>0</td>\n",
       "      <td>0</td>\n",
       "      <td>2097.2700</td>\n",
       "    </tr>\n",
       "    <tr>\n",
       "      <th>3</th>\n",
       "      <td>19.200</td>\n",
       "      <td>0</td>\n",
       "      <td>1</td>\n",
       "      <td>0</td>\n",
       "      <td>0</td>\n",
       "      <td>0</td>\n",
       "      <td>0.000000</td>\n",
       "      <td>0</td>\n",
       "      <td>0</td>\n",
       "      <td>0</td>\n",
       "      <td>...</td>\n",
       "      <td>0</td>\n",
       "      <td>0</td>\n",
       "      <td>0</td>\n",
       "      <td>1</td>\n",
       "      <td>0</td>\n",
       "      <td>0</td>\n",
       "      <td>0</td>\n",
       "      <td>1</td>\n",
       "      <td>0</td>\n",
       "      <td>732.3800</td>\n",
       "    </tr>\n",
       "    <tr>\n",
       "      <th>4</th>\n",
       "      <td>8.930</td>\n",
       "      <td>1</td>\n",
       "      <td>0</td>\n",
       "      <td>0</td>\n",
       "      <td>0</td>\n",
       "      <td>0</td>\n",
       "      <td>0.000000</td>\n",
       "      <td>0</td>\n",
       "      <td>0</td>\n",
       "      <td>0</td>\n",
       "      <td>...</td>\n",
       "      <td>1</td>\n",
       "      <td>0</td>\n",
       "      <td>0</td>\n",
       "      <td>1</td>\n",
       "      <td>0</td>\n",
       "      <td>1</td>\n",
       "      <td>0</td>\n",
       "      <td>0</td>\n",
       "      <td>0</td>\n",
       "      <td>994.7052</td>\n",
       "    </tr>\n",
       "    <tr>\n",
       "      <th>5</th>\n",
       "      <td>10.395</td>\n",
       "      <td>0</td>\n",
       "      <td>1</td>\n",
       "      <td>0</td>\n",
       "      <td>0</td>\n",
       "      <td>0</td>\n",
       "      <td>0.000000</td>\n",
       "      <td>0</td>\n",
       "      <td>0</td>\n",
       "      <td>0</td>\n",
       "      <td>...</td>\n",
       "      <td>0</td>\n",
       "      <td>0</td>\n",
       "      <td>0</td>\n",
       "      <td>1</td>\n",
       "      <td>0</td>\n",
       "      <td>0</td>\n",
       "      <td>1</td>\n",
       "      <td>0</td>\n",
       "      <td>0</td>\n",
       "      <td>556.6088</td>\n",
       "    </tr>\n",
       "  </tbody>\n",
       "</table>\n",
       "<p>6 rows × 46 columns</p>\n",
       "</div>"
      ],
      "text/plain": [
       "   Item_Weight  Item_Fat_Content_Low Fat  Item_Fat_Content_Regular  \\\n",
       "0        9.300                         1                         0   \n",
       "1        5.920                         0                         1   \n",
       "2       17.500                         1                         0   \n",
       "3       19.200                         0                         1   \n",
       "4        8.930                         1                         0   \n",
       "5       10.395                         0                         1   \n",
       "\n",
       "   Item_Fat_Content_low fat  Item_Fat_Content_LF  Item_Fat_Content_reg  \\\n",
       "0                         0                    0                     0   \n",
       "1                         0                    0                     0   \n",
       "2                         0                    0                     0   \n",
       "3                         0                    0                     0   \n",
       "4                         0                    0                     0   \n",
       "5                         0                    0                     0   \n",
       "\n",
       "   Item_Visibility  Item_Type_Dairy  Item_Type_Soft Drinks  Item_Type_Meat  \\\n",
       "0         0.016047                1                      0               0   \n",
       "1         0.019278                0                      1               0   \n",
       "2         0.016760                0                      0               1   \n",
       "3         0.000000                0                      0               0   \n",
       "4         0.000000                0                      0               0   \n",
       "5         0.000000                0                      0               0   \n",
       "\n",
       "   ...  Outlet_Size_High  Outlet_Size_Small  Outlet_Location_Type_Tier 1  \\\n",
       "0  ...                 0                  0                            1   \n",
       "1  ...                 0                  0                            0   \n",
       "2  ...                 0                  0                            1   \n",
       "3  ...                 0                  0                            0   \n",
       "4  ...                 1                  0                            0   \n",
       "5  ...                 0                  0                            0   \n",
       "\n",
       "   Outlet_Location_Type_Tier 3  Outlet_Location_Type_Tier 2  \\\n",
       "0                            0                            0   \n",
       "1                            1                            0   \n",
       "2                            0                            0   \n",
       "3                            1                            0   \n",
       "4                            1                            0   \n",
       "5                            1                            0   \n",
       "\n",
       "   Outlet_Type_Supermarket Type1  Outlet_Type_Supermarket Type2  \\\n",
       "0                              1                              0   \n",
       "1                              0                              1   \n",
       "2                              1                              0   \n",
       "3                              0                              0   \n",
       "4                              1                              0   \n",
       "5                              0                              1   \n",
       "\n",
       "   Outlet_Type_Grocery Store  Outlet_Type_Supermarket Type3  Item_Outlet_Sales  \n",
       "0                          0                              0          3735.1380  \n",
       "1                          0                              0           443.4228  \n",
       "2                          0                              0          2097.2700  \n",
       "3                          1                              0           732.3800  \n",
       "4                          0                              0           994.7052  \n",
       "5                          0                              0           556.6088  \n",
       "\n",
       "[6 rows x 46 columns]"
      ]
     },
     "execution_count": 116,
     "metadata": {},
     "output_type": "execute_result"
    }
   ],
   "source": [
    "train.head(6)"
   ]
  },
  {
   "cell_type": "code",
   "execution_count": 117,
   "id": "abe388e9",
   "metadata": {},
   "outputs": [],
   "source": [
    "X=train.loc[:,train.columns!='Item_Outlet_Sales']"
   ]
  },
  {
   "cell_type": "code",
   "execution_count": 118,
   "id": "84e07a87",
   "metadata": {},
   "outputs": [],
   "source": [
    "Y=train['Item_Outlet_Sales']"
   ]
  },
  {
   "cell_type": "code",
   "execution_count": 119,
   "id": "841aa93b",
   "metadata": {},
   "outputs": [],
   "source": [
    "from sklearn.preprocessing import StandardScaler"
   ]
  },
  {
   "cell_type": "code",
   "execution_count": 120,
   "id": "47e295b0",
   "metadata": {},
   "outputs": [],
   "source": [
    "scaler=StandardScaler().fit(X)"
   ]
  },
  {
   "cell_type": "code",
   "execution_count": 121,
   "id": "4f3f2987",
   "metadata": {},
   "outputs": [],
   "source": [
    "X_s=pd.DataFrame(scaler.transform(X),columns=X.columns)"
   ]
  },
  {
   "cell_type": "code",
   "execution_count": 122,
   "id": "2a27df9b",
   "metadata": {},
   "outputs": [],
   "source": [
    "from sklearn.model_selection import train_test_split"
   ]
  },
  {
   "cell_type": "code",
   "execution_count": 123,
   "id": "05c83984",
   "metadata": {},
   "outputs": [],
   "source": [
    "X_train,X_test,Y_train,Y_test=train_test_split(X_s,Y,test_size=0.2,random_state=92)"
   ]
  },
  {
   "cell_type": "markdown",
   "id": "ee4a5ddc",
   "metadata": {},
   "source": [
    "#### Build the Random Forest Regressor"
   ]
  },
  {
   "cell_type": "code",
   "execution_count": 124,
   "id": "f32b0142",
   "metadata": {},
   "outputs": [],
   "source": [
    "from sklearn.ensemble import RandomForestRegressor"
   ]
  },
  {
   "cell_type": "code",
   "execution_count": 125,
   "id": "c785a116",
   "metadata": {},
   "outputs": [],
   "source": [
    "RF_model1=RandomForestRegressor()"
   ]
  },
  {
   "cell_type": "code",
   "execution_count": 126,
   "id": "1a2e0380",
   "metadata": {},
   "outputs": [
    {
     "data": {
      "text/plain": [
       "RandomForestRegressor()"
      ]
     },
     "execution_count": 126,
     "metadata": {},
     "output_type": "execute_result"
    }
   ],
   "source": [
    "RF_model1.fit(X_train,Y_train)"
   ]
  },
  {
   "cell_type": "code",
   "execution_count": 127,
   "id": "566e2153",
   "metadata": {},
   "outputs": [],
   "source": [
    "from sklearn.metrics import r2_score,mean_squared_error"
   ]
  },
  {
   "cell_type": "code",
   "execution_count": 128,
   "id": "84a839a7",
   "metadata": {},
   "outputs": [
    {
     "data": {
      "text/plain": [
       "0.5685142732478393"
      ]
     },
     "execution_count": 128,
     "metadata": {},
     "output_type": "execute_result"
    }
   ],
   "source": [
    "r2_score(Y_test,RF_model1.predict(X_test))"
   ]
  },
  {
   "cell_type": "code",
   "execution_count": 129,
   "id": "73f40de3",
   "metadata": {},
   "outputs": [
    {
     "data": {
      "text/plain": [
       "1309081.772415857"
      ]
     },
     "execution_count": 129,
     "metadata": {},
     "output_type": "execute_result"
    }
   ],
   "source": [
    "mean_squared_error(Y_test,RF_model1.predict(X_test))"
   ]
  },
  {
   "cell_type": "code",
   "execution_count": 130,
   "id": "0a277fe6",
   "metadata": {},
   "outputs": [],
   "source": [
    "imp_feat=pd.Series(RF_model1.feature_importances_,index = X.columns)"
   ]
  },
  {
   "cell_type": "code",
   "execution_count": 131,
   "id": "f5e26715",
   "metadata": {},
   "outputs": [
    {
     "data": {
      "text/plain": [
       "<AxesSubplot:>"
      ]
     },
     "execution_count": 131,
     "metadata": {},
     "output_type": "execute_result"
    },
    {
     "data": {
      "image/png": "[encoded data removed]",
      "text/plain": [
       "<Figure size 432x288 with 1 Axes>"
      ]
     },
     "metadata": {
      "needs_background": "light"
     },
     "output_type": "display_data"
    }
   ],
   "source": [
    "imp_feat.nlargest(7).plot(kind='barh')"
   ]
  },
  {
   "cell_type": "code",
   "execution_count": 132,
   "id": "9bd2cc57",
   "metadata": {},
   "outputs": [
    {
     "data": {
      "text/html": [
       "<div>\n",
       "<style scoped>\n",
       "    .dataframe tbody tr th:only-of-type {\n",
       "        vertical-align: middle;\n",
       "    }\n",
       "\n",
       "    .dataframe tbody tr th {\n",
       "        vertical-align: top;\n",
       "    }\n",
       "\n",
       "    .dataframe thead th {\n",
       "        text-align: right;\n",
       "    }\n",
       "</style>\n",
       "<table border=\"1\" class=\"dataframe\">\n",
       "  <thead>\n",
       "    <tr style=\"text-align: right;\">\n",
       "      <th></th>\n",
       "      <th>Item_Weight</th>\n",
       "      <th>Item_Fat_Content_Low Fat</th>\n",
       "      <th>Item_Fat_Content_Regular</th>\n",
       "      <th>Item_Fat_Content_low fat</th>\n",
       "      <th>Item_Fat_Content_LF</th>\n",
       "      <th>Item_Fat_Content_reg</th>\n",
       "      <th>Item_Visibility</th>\n",
       "      <th>Item_Type_Dairy</th>\n",
       "      <th>Item_Type_Soft Drinks</th>\n",
       "      <th>Item_Type_Meat</th>\n",
       "      <th>...</th>\n",
       "      <th>Outlet_Size_Medium</th>\n",
       "      <th>Outlet_Size_High</th>\n",
       "      <th>Outlet_Size_Small</th>\n",
       "      <th>Outlet_Location_Type_Tier 1</th>\n",
       "      <th>Outlet_Location_Type_Tier 3</th>\n",
       "      <th>Outlet_Location_Type_Tier 2</th>\n",
       "      <th>Outlet_Type_Supermarket Type1</th>\n",
       "      <th>Outlet_Type_Supermarket Type2</th>\n",
       "      <th>Outlet_Type_Grocery Store</th>\n",
       "      <th>Outlet_Type_Supermarket Type3</th>\n",
       "    </tr>\n",
       "  </thead>\n",
       "  <tbody>\n",
       "    <tr>\n",
       "      <th>5476</th>\n",
       "      <td>4.035383e-14</td>\n",
       "      <td>0.821455</td>\n",
       "      <td>-0.716086</td>\n",
       "      <td>-0.115395</td>\n",
       "      <td>-0.196224</td>\n",
       "      <td>-0.117977</td>\n",
       "      <td>0.004257</td>\n",
       "      <td>-0.294922</td>\n",
       "      <td>-0.234708</td>\n",
       "      <td>4.365102</td>\n",
       "      <td>...</td>\n",
       "      <td>-1.251866</td>\n",
       "      <td>-0.350395</td>\n",
       "      <td>1.602840</td>\n",
       "      <td>1.602840</td>\n",
       "      <td>-0.804732</td>\n",
       "      <td>-0.696678</td>\n",
       "      <td>-1.375891</td>\n",
       "      <td>-0.349551</td>\n",
       "      <td>2.621031</td>\n",
       "      <td>-0.351028</td>\n",
       "    </tr>\n",
       "    <tr>\n",
       "      <th>1154</th>\n",
       "      <td>4.035383e-14</td>\n",
       "      <td>-1.217352</td>\n",
       "      <td>1.396480</td>\n",
       "      <td>-0.115395</td>\n",
       "      <td>-0.196224</td>\n",
       "      <td>-0.117977</td>\n",
       "      <td>-0.147099</td>\n",
       "      <td>-0.294922</td>\n",
       "      <td>-0.234708</td>\n",
       "      <td>-0.229090</td>\n",
       "      <td>...</td>\n",
       "      <td>0.798807</td>\n",
       "      <td>-0.350395</td>\n",
       "      <td>-0.623893</td>\n",
       "      <td>-0.623893</td>\n",
       "      <td>1.242650</td>\n",
       "      <td>-0.696678</td>\n",
       "      <td>-1.375891</td>\n",
       "      <td>-0.349551</td>\n",
       "      <td>-0.381529</td>\n",
       "      <td>2.848773</td>\n",
       "    </tr>\n",
       "    <tr>\n",
       "      <th>2675</th>\n",
       "      <td>4.035383e-14</td>\n",
       "      <td>-1.217352</td>\n",
       "      <td>-0.716086</td>\n",
       "      <td>-0.115395</td>\n",
       "      <td>5.096226</td>\n",
       "      <td>-0.117977</td>\n",
       "      <td>2.241258</td>\n",
       "      <td>-0.294922</td>\n",
       "      <td>-0.234708</td>\n",
       "      <td>-0.229090</td>\n",
       "      <td>...</td>\n",
       "      <td>0.798807</td>\n",
       "      <td>-0.350395</td>\n",
       "      <td>-0.623893</td>\n",
       "      <td>-0.623893</td>\n",
       "      <td>1.242650</td>\n",
       "      <td>-0.696678</td>\n",
       "      <td>-1.375891</td>\n",
       "      <td>-0.349551</td>\n",
       "      <td>-0.381529</td>\n",
       "      <td>2.848773</td>\n",
       "    </tr>\n",
       "    <tr>\n",
       "      <th>3320</th>\n",
       "      <td>4.035383e-14</td>\n",
       "      <td>0.821455</td>\n",
       "      <td>-0.716086</td>\n",
       "      <td>-0.115395</td>\n",
       "      <td>-0.196224</td>\n",
       "      <td>-0.117977</td>\n",
       "      <td>-0.780896</td>\n",
       "      <td>-0.294922</td>\n",
       "      <td>-0.234708</td>\n",
       "      <td>-0.229090</td>\n",
       "      <td>...</td>\n",
       "      <td>0.798807</td>\n",
       "      <td>-0.350395</td>\n",
       "      <td>-0.623893</td>\n",
       "      <td>-0.623893</td>\n",
       "      <td>1.242650</td>\n",
       "      <td>-0.696678</td>\n",
       "      <td>-1.375891</td>\n",
       "      <td>-0.349551</td>\n",
       "      <td>-0.381529</td>\n",
       "      <td>2.848773</td>\n",
       "    </tr>\n",
       "    <tr>\n",
       "      <th>4831</th>\n",
       "      <td>-1.532853e+00</td>\n",
       "      <td>0.821455</td>\n",
       "      <td>-0.716086</td>\n",
       "      <td>-0.115395</td>\n",
       "      <td>-0.196224</td>\n",
       "      <td>-0.117977</td>\n",
       "      <td>-0.987284</td>\n",
       "      <td>-0.294922</td>\n",
       "      <td>-0.234708</td>\n",
       "      <td>-0.229090</td>\n",
       "      <td>...</td>\n",
       "      <td>0.798807</td>\n",
       "      <td>-0.350395</td>\n",
       "      <td>-0.623893</td>\n",
       "      <td>-0.623893</td>\n",
       "      <td>-0.804732</td>\n",
       "      <td>1.435383</td>\n",
       "      <td>0.726802</td>\n",
       "      <td>-0.349551</td>\n",
       "      <td>-0.381529</td>\n",
       "      <td>-0.351028</td>\n",
       "    </tr>\n",
       "  </tbody>\n",
       "</table>\n",
       "<p>5 rows × 45 columns</p>\n",
       "</div>"
      ],
      "text/plain": [
       "       Item_Weight  Item_Fat_Content_Low Fat  Item_Fat_Content_Regular  \\\n",
       "5476  4.035383e-14                  0.821455                 -0.716086   \n",
       "1154  4.035383e-14                 -1.217352                  1.396480   \n",
       "2675  4.035383e-14                 -1.217352                 -0.716086   \n",
       "3320  4.035383e-14                  0.821455                 -0.716086   \n",
       "4831 -1.532853e+00                  0.821455                 -0.716086   \n",
       "\n",
       "      Item_Fat_Content_low fat  Item_Fat_Content_LF  Item_Fat_Content_reg  \\\n",
       "5476                 -0.115395            -0.196224             -0.117977   \n",
       "1154                 -0.115395            -0.196224             -0.117977   \n",
       "2675                 -0.115395             5.096226             -0.117977   \n",
       "3320                 -0.115395            -0.196224             -0.117977   \n",
       "4831                 -0.115395            -0.196224             -0.117977   \n",
       "\n",
       "      Item_Visibility  Item_Type_Dairy  Item_Type_Soft Drinks  Item_Type_Meat  \\\n",
       "5476         0.004257        -0.294922              -0.234708        4.365102   \n",
       "1154        -0.147099        -0.294922              -0.234708       -0.229090   \n",
       "2675         2.241258        -0.294922              -0.234708       -0.229090   \n",
       "3320        -0.780896        -0.294922              -0.234708       -0.229090   \n",
       "4831        -0.987284        -0.294922              -0.234708       -0.229090   \n",
       "\n",
       "      ...  Outlet_Size_Medium  Outlet_Size_High  Outlet_Size_Small  \\\n",
       "5476  ...           -1.251866         -0.350395           1.602840   \n",
       "1154  ...            0.798807         -0.350395          -0.623893   \n",
       "2675  ...            0.798807         -0.350395          -0.623893   \n",
       "3320  ...            0.798807         -0.350395          -0.623893   \n",
       "4831  ...            0.798807         -0.350395          -0.623893   \n",
       "\n",
       "      Outlet_Location_Type_Tier 1  Outlet_Location_Type_Tier 3  \\\n",
       "5476                     1.602840                    -0.804732   \n",
       "1154                    -0.623893                     1.242650   \n",
       "2675                    -0.623893                     1.242650   \n",
       "3320                    -0.623893                     1.242650   \n",
       "4831                    -0.623893                    -0.804732   \n",
       "\n",
       "      Outlet_Location_Type_Tier 2  Outlet_Type_Supermarket Type1  \\\n",
       "5476                    -0.696678                      -1.375891   \n",
       "1154                    -0.696678                      -1.375891   \n",
       "2675                    -0.696678                      -1.375891   \n",
       "3320                    -0.696678                      -1.375891   \n",
       "4831                     1.435383                       0.726802   \n",
       "\n",
       "      Outlet_Type_Supermarket Type2  Outlet_Type_Grocery Store  \\\n",
       "5476                      -0.349551                   2.621031   \n",
       "1154                      -0.349551                  -0.381529   \n",
       "2675                      -0.349551                  -0.381529   \n",
       "3320                      -0.349551                  -0.381529   \n",
       "4831                      -0.349551                  -0.381529   \n",
       "\n",
       "      Outlet_Type_Supermarket Type3  \n",
       "5476                      -0.351028  \n",
       "1154                       2.848773  \n",
       "2675                       2.848773  \n",
       "3320                       2.848773  \n",
       "4831                      -0.351028  \n",
       "\n",
       "[5 rows x 45 columns]"
      ]
     },
     "execution_count": 132,
     "metadata": {},
     "output_type": "execute_result"
    }
   ],
   "source": [
    "X_train.head()"
   ]
  },
  {
   "cell_type": "markdown",
   "id": "1ffb7287",
   "metadata": {},
   "source": [
    "#### Build the model Using most significant features"
   ]
  },
  {
   "cell_type": "code",
   "execution_count": 133,
   "id": "d316451a",
   "metadata": {},
   "outputs": [],
   "source": [
    "X_train_imp = X_train[['Item_MRP', \n",
    "                    'Outlet_Type_Grocery Store',\n",
    "                    'Item_Visibility',\n",
    "                    'Outlet_Type_Supermarket Type3',\n",
    "                    'Outlet_Identifier_OUT027',\n",
    "                    'Outlet_Establishment_Year',\n",
    "                    'Item_Weight']]"
   ]
  },
  {
   "cell_type": "code",
   "execution_count": 134,
   "id": "c82f8d83",
   "metadata": {},
   "outputs": [],
   "source": [
    "X_test_imp = X_test[['Item_MRP', \n",
    "                    'Outlet_Type_Grocery Store',\n",
    "                    'Item_Visibility',\n",
    "                    'Outlet_Type_Supermarket Type3',\n",
    "                    'Outlet_Identifier_OUT027',\n",
    "                    'Outlet_Establishment_Year',\n",
    "                    'Item_Weight']]"
   ]
  },
  {
   "cell_type": "code",
   "execution_count": 135,
   "id": "7c6a834d",
   "metadata": {},
   "outputs": [],
   "source": [
    "RF_model2=RandomForestRegressor()"
   ]
  },
  {
   "cell_type": "code",
   "execution_count": 136,
   "id": "c45ffe76",
   "metadata": {},
   "outputs": [
    {
     "data": {
      "text/plain": [
       "RandomForestRegressor()"
      ]
     },
     "execution_count": 136,
     "metadata": {},
     "output_type": "execute_result"
    }
   ],
   "source": [
    "RF_model2.fit(X_train_imp,Y_train)"
   ]
  },
  {
   "cell_type": "code",
   "execution_count": 137,
   "id": "314b4f2d",
   "metadata": {},
   "outputs": [
    {
     "data": {
      "text/plain": [
       "0.5561211016912422"
      ]
     },
     "execution_count": 137,
     "metadata": {},
     "output_type": "execute_result"
    }
   ],
   "source": [
    "r2_score(Y_test,RF_model2.predict(X_test_imp))"
   ]
  },
  {
   "cell_type": "code",
   "execution_count": 138,
   "id": "785736a1",
   "metadata": {},
   "outputs": [
    {
     "data": {
      "text/plain": [
       "1346681.335926987"
      ]
     },
     "execution_count": 138,
     "metadata": {},
     "output_type": "execute_result"
    }
   ],
   "source": [
    "mean_squared_error(Y_test,RF_model2.predict(X_test_imp))"
   ]
  },
  {
   "cell_type": "markdown",
   "id": "9a74fdbf",
   "metadata": {},
   "source": [
    "### Build the ML  Pipeline"
   ]
  },
  {
   "cell_type": "code",
   "execution_count": 148,
   "id": "02711c8e",
   "metadata": {},
   "outputs": [],
   "source": [
    "from sklearn.compose import ColumnTransformer \n",
    "from sklearn.impute import SimpleImputer\n",
    "from sklearn.preprocessing import StandardScaler\n",
    "from sklearn.pipeline import Pipeline"
   ]
  },
  {
   "cell_type": "code",
   "execution_count": 149,
   "id": "1df5034a",
   "metadata": {},
   "outputs": [],
   "source": [
    "Transformer_1 = ColumnTransformer(remainder='passthrough',\n",
    "                                transformers=[('drop_columns', 'drop', ['Item_Identifier',\n",
    "                                                                        'Outlet_Identifier',\n",
    "                                                                        'Item_Fat_Content',\n",
    "                                                                        'Item_Type',\n",
    "                                                                        'Outlet_Identifier',\n",
    "                                                                        'Outlet_Size',\n",
    "                                                                        'Outlet_Location_Type',\n",
    "                                                                        'Outlet_Type'\n",
    "                                                                       ]),\n",
    "                                              ('impute_item_weight', SimpleImputer(strategy='mean'), ['Item_Weight']),\n",
    "                                              ])"
   ]
  },
  {
   "cell_type": "code",
   "execution_count": 150,
   "id": "b7867d9b",
   "metadata": {},
   "outputs": [],
   "source": [
    "model_pipeline = Pipeline(steps=[('Transformer_1',data_preprocessing),\n",
    "                                 ('Transformer_2',StandardScaler()),\n",
    "                                 ('Estimator', RandomForestRegressor(max_depth=10,random_state=2))\n",
    "                                 ])"
   ]
  },
  {
   "cell_type": "markdown",
   "id": "0b604bf4",
   "metadata": {},
   "source": [
    "### Train the Model Using Pipeline"
   ]
  },
  {
   "cell_type": "code",
   "execution_count": 151,
   "id": "45a25946",
   "metadata": {},
   "outputs": [],
   "source": [
    "train=pd.read_csv('train_v9rqX0R.csv')"
   ]
  },
  {
   "cell_type": "code",
   "execution_count": 152,
   "id": "f601b60b",
   "metadata": {},
   "outputs": [],
   "source": [
    "X=train.loc[:,train.columns!='Item_Outlet_Sales']\n",
    "Y=train['Item_Outlet_Sales']"
   ]
  },
  {
   "cell_type": "code",
   "execution_count": 153,
   "id": "3ebcf8d6",
   "metadata": {},
   "outputs": [
    {
     "data": {
      "text/plain": [
       "Pipeline(steps=[('Transformer_1',\n",
       "                 ColumnTransformer(remainder='passthrough',\n",
       "                                   transformers=[('drop_columns', 'drop',\n",
       "                                                  ['Item_Identifier',\n",
       "                                                   'Outlet_Identifier',\n",
       "                                                   'Item_Fat_Content',\n",
       "                                                   'Item_Type',\n",
       "                                                   'Outlet_Identifier',\n",
       "                                                   'Outlet_Size',\n",
       "                                                   'Outlet_Location_Type',\n",
       "                                                   'Outlet_Type']),\n",
       "                                                 ('impute_item_weight',\n",
       "                                                  SimpleImputer(),\n",
       "                                                  ['Item_Weight'])])),\n",
       "                ('Transformer_2', StandardScaler()),\n",
       "                ('Estimator',\n",
       "                 RandomForestRegressor(max_depth=10, random_state=2))])"
      ]
     },
     "execution_count": 153,
     "metadata": {},
     "output_type": "execute_result"
    }
   ],
   "source": [
    "model_pipeline.fit(X,Y)"
   ]
  },
  {
   "cell_type": "markdown",
   "id": "39f2ddff",
   "metadata": {},
   "source": [
    "### Make Predictions through Pipeline "
   ]
  },
  {
   "cell_type": "code",
   "execution_count": 156,
   "id": "76854be4",
   "metadata": {},
   "outputs": [],
   "source": [
    "test=pd.read_csv('test_AbJTz2l.csv')"
   ]
  },
  {
   "cell_type": "code",
   "execution_count": 157,
   "id": "7d9f09b5",
   "metadata": {},
   "outputs": [
    {
     "data": {
      "text/plain": [
       "array([1685.82063949, 1352.56787032,  824.93107475, ..., 1879.36721036,\n",
       "       4055.74054457, 1300.02755312])"
      ]
     },
     "execution_count": 157,
     "metadata": {},
     "output_type": "execute_result"
    }
   ],
   "source": [
    "model_pipeline.predict(test)"
   ]
  }
 ],
 "metadata": {
  "kernelspec": {
   "display_name": "Python 3 (ipykernel)",
   "language": "python",
   "name": "python3"
  },
  "language_info": {
   "codemirror_mode": {
    "name": "ipython",
    "version": 3
   },
   "file_extension": ".py",
   "mimetype": "text/x-python",
   "name": "python",
   "nbconvert_exporter": "python",
   "pygments_lexer": "ipython3",
   "version": "3.9.7"
  }
 },
 "nbformat": 4,
 "nbformat_minor": 5
}
